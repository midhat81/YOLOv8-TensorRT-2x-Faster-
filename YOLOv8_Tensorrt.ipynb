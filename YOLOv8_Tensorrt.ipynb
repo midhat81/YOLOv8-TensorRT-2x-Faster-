{
  "cells": [
    {
      "cell_type": "markdown",
      "metadata": {
        "id": "2gXjoyUkl1Wc"
      },
      "source": [
        "# YOLOv8 Installation"
      ]
    },
    {
      "cell_type": "code",
      "execution_count": null,
      "metadata": {
        "id": "5C4MpBNYlzSa"
      },
      "outputs": [],
      "source": [
        "# Mount Google Drive\n",
        "from google.colab import drive\n",
        "drive.mount('/content/gdrive')"
      ]
    },
    {
      "cell_type": "code",
      "execution_count": 2,
      "metadata": {
        "id": "_2JhsEJEl90q"
      },
      "outputs": [],
      "source": [
        "# Access Google Drive Folder\n",
        "import os\n",
        "os.chdir(\"gdrive/MyDrive\")"
      ]
    },
    {
      "cell_type": "code",
      "execution_count": 3,
      "metadata": {
        "id": "sHi93xhml_L2"
      },
      "outputs": [],
      "source": [
        "# Create YOLOv8 root folder\n",
        "!mkdir yolov8-tensorrt"
      ]
    },
    {
      "cell_type": "code",
      "execution_count": null,
      "metadata": {
        "id": "ptFfBeq5mAa8"
      },
      "outputs": [],
      "source": [
        "# Go to YOLOv8 root folder\n",
        "%cd yolov8-tensorrt"
      ]
    },
    {
      "cell_type": "code",
      "execution_count": null,
      "metadata": {
        "id": "OD26qSXamCfk"
      },
      "outputs": [],
      "source": [
        "# Install YOLOv8\n",
        "%pip install ultralytics\n",
        "\n",
        "import ultralytics\n",
        "ultralytics.checks()"
      ]
    },
    {
      "cell_type": "markdown",
      "metadata": {
        "id": "zJBju7PZmHYc"
      },
      "source": [
        "## Download the Model"
      ]
    },
    {
      "cell_type": "code",
      "execution_count": null,
      "metadata": {
        "id": "hHTp3kVsmKNi"
      },
      "outputs": [],
      "source": [
        "# Download YOLOv8 model\n",
        "!wget https://github.com/ultralytics/assets/releases/download/v0.0.0/yolov8x.pt"
      ]
    },
    {
      "cell_type": "markdown",
      "metadata": {
        "id": "9brSTmpEmLTj"
      },
      "source": [
        "# Tensorrt"
      ]
    },
    {
      "cell_type": "code",
      "execution_count": null,
      "metadata": {
        "id": "VUff5dejmNHu"
      },
      "outputs": [],
      "source": [
        "!pip install tensorrt"
      ]
    },
    {
      "cell_type": "code",
      "execution_count": null,
      "metadata": {
        "id": "e0pZtlcCmQkE"
      },
      "outputs": [],
      "source": [
        "!pip install tensorrt_lean"
      ]
    },
    {
      "cell_type": "code",
      "execution_count": null,
      "metadata": {
        "id": "fAhaRj11mS1m"
      },
      "outputs": [],
      "source": [
        "!pip install tensorrt_dispatch"
      ]
    },
    {
      "cell_type": "code",
      "execution_count": null,
      "metadata": {
        "id": "3zR8n35m5Kp6"
      },
      "outputs": [],
      "source": [
        "!pip install onnx onnxsim onnxruntime-gpu"
      ]
    },
    {
      "cell_type": "code",
      "execution_count": null,
      "metadata": {
        "id": "2UxZjv9JmUaY"
      },
      "outputs": [],
      "source": [
        "import tensorrt\n",
        "print(tensorrt.__version__)\n",
        "assert tensorrt.Builder(tensorrt.Logger())"
      ]
    },
    {
      "cell_type": "code",
      "execution_count": null,
      "metadata": {
        "id": "V62zTVoImXKU"
      },
      "outputs": [],
      "source": [
        "# Export YOLOv8 Model to Tensorrt\n",
        "!yolo export model=yolov8x.pt format=engine half=True device=0 workspace=12"
      ]
    },
    {
      "cell_type": "markdown",
      "metadata": {
        "id": "f8ZYA3k2mgz8"
      },
      "source": [
        "## Inference on Image"
      ]
    },
    {
      "cell_type": "code",
      "execution_count": null,
      "metadata": {
        "id": "3DhS9BTRml_z"
      },
      "outputs": [],
      "source": [
        "# Inference Using YOLOv8 Model\n",
        "!yolo detect predict model=yolov8x.pt source=\"https://ultralytics.com/images/bus.jpg\" device=0"
      ]
    },
    {
      "cell_type": "code",
      "execution_count": null,
      "metadata": {
        "id": "-QIl5j75mvyB"
      },
      "outputs": [],
      "source": [
        "# Inference Using YOLOv8 Tensorrt\n",
        "!yolo detect predict model=yolov8x.engine source=\"https://ultralytics.com/images/bus.jpg\" device=0"
      ]
    },
    {
      "cell_type": "code",
      "execution_count": null,
      "metadata": {
        "id": "6uHSN2qk_ivN"
      },
      "outputs": [],
      "source": [
        "from PIL import Image\n",
        "from IPython.display import display\n",
        "\n",
        "# Load the images\n",
        "image1 = Image.open(\"runs/detect/predict/bus.jpg\")\n",
        "image2 = Image.open(\"runs/detect/predict2/bus.jpg\")\n",
        "\n",
        "w, h = image1.size\n",
        "new_width = int(w/2)\n",
        "new_height = int(h/2)\n",
        "\n",
        "# Resize the images\n",
        "image1 = image1.resize((new_width, new_height))\n",
        "image2 = image2.resize((new_width, new_height))\n",
        "\n",
        "# Display the images side by side\n",
        "display(image1, image2)"
      ]
    },
    {
      "cell_type": "markdown",
      "metadata": {
        "id": "t23v8tX4m3Bi"
      },
      "source": [
        "## mAP"
      ]
    },
    {
      "cell_type": "code",
      "execution_count": null,
      "metadata": {
        "id": "L_VvMCQSm4Zy"
      },
      "outputs": [],
      "source": [
        "# mAP Calculation YOLOv8 Model\n",
        "!yolo detect val model=yolov8x.pt data=coco128.yaml iou=0.5 imgsz=640 name=yolov8x"
      ]
    },
    {
      "cell_type": "code",
      "execution_count": null,
      "metadata": {
        "id": "O0LDOtg8nGE2"
      },
      "outputs": [],
      "source": [
        "# mAP Calculation YOLOv8 Tensorrt\n",
        "!yolo detect val model=yolov8x.engine data=coco128.yaml iou=0.5 imgsz=640 name=yolov8x-tensorrt"
      ]
    },
    {
      "cell_type": "markdown",
      "metadata": {
        "id": "Z7GeHBg_m4km"
      },
      "source": [
        "## Inference on Video"
      ]
    },
    {
      "cell_type": "code",
      "execution_count": null,
      "metadata": {
        "id": "a1PyUqCanKJW"
      },
      "outputs": [],
      "source": [
        "# Download modules\n",
        "!gdown https://drive.google.com/uc?id=1RskX1wXVF0xSMAPgpkU-EsaUv8tD7lvS"
      ]
    },
    {
      "cell_type": "code",
      "execution_count": null,
      "metadata": {
        "id": "khIoR0ccnKWK"
      },
      "outputs": [],
      "source": [
        "# Unzip the modules\n",
        "!unzip modules.zip"
      ]
    },
    {
      "cell_type": "code",
      "execution_count": 19,
      "metadata": {
        "id": "ywuQHtHukaAj"
      },
      "outputs": [],
      "source": [
        "# Create inference folder\n",
        "!mkdir inference"
      ]
    },
    {
      "cell_type": "code",
      "execution_count": null,
      "metadata": {
        "id": "zANblaROkbTH"
      },
      "outputs": [],
      "source": [
        "# Download the video\n",
        "!gdown https://drive.google.com/uc?id=11Z0BMXcKNdQmJNyBejWqU9V6z7gEloMZ"
      ]
    },
    {
      "cell_type": "code",
      "execution_count": 21,
      "metadata": {
        "id": "N9KXMeCKke7L"
      },
      "outputs": [],
      "source": [
        "# Move the video to inference folder\n",
        "!mv road.mp4 inference/"
      ]
    },
    {
      "cell_type": "code",
      "execution_count": 22,
      "metadata": {
        "id": "L3HtPyVwkleD"
      },
      "outputs": [],
      "source": [
        "import torch\n",
        "import cv2\n",
        "import random\n",
        "import time\n",
        "import pathlib\n",
        "from ultralytics import YOLO\n",
        "\n",
        "import modules.utils as utils\n",
        "from modules.autobackend import AutoBackend\n",
        "\n",
        "def tensorrt_detection(model, source, image):\n",
        "    # Preprocess\n",
        "    im = utils.preprocess(image)\n",
        "\n",
        "    # Inference\n",
        "    preds = model(im)\n",
        "\n",
        "    # Post Process\n",
        "    results = utils.postprocess(preds, im, image, model.names, source)\n",
        "    d = results[0].boxes\n",
        "\n",
        "    # Get information from result\n",
        "    tensor_size = d.cls.size()[0]\n",
        "    if(tensor_size > 1):\n",
        "        cls, conf, box = d.cls.squeeze(), d.conf.squeeze(), d.xyxy.squeeze()\n",
        "    else:\n",
        "        cls, conf, box = d.cls, d.conf, d.xyxy\n",
        "\n",
        "    return cls, conf, box\n",
        "\n",
        "def yolov8_detection(model, image):\n",
        "    # Update object localizer\n",
        "    results = model.predict(image, imgsz=640, conf=0.5, verbose=False)\n",
        "    result = results[0].cpu()\n",
        "\n",
        "    # Get information from result\n",
        "    box = result.boxes.xyxy.numpy()\n",
        "    conf = result.boxes.conf.numpy()\n",
        "    cls = result.boxes.cls.numpy().astype(int)\n",
        "\n",
        "    return cls, conf, box\n",
        "\n",
        "def detection(model_path, source, name):\n",
        "  # Check File Extension\n",
        "  file_extension = pathlib.Path(model_path).suffix\n",
        "\n",
        "  if(file_extension == \".engine\"):\n",
        "    model = AutoBackend(model_path, device=torch.device('cuda:0'), fp16=True)\n",
        "    # Warmup\n",
        "    model.warmup()\n",
        "  else:\n",
        "    model = YOLO(model_path)\n",
        "\n",
        "  # Class Name and Colors\n",
        "  label_map = model.names\n",
        "  COLORS = [[random.randint(0, 255) for _ in range(3)] for _ in label_map]\n",
        "\n",
        "  # FPS Detection\n",
        "  frame_count = 0\n",
        "  total_fps = 0\n",
        "  avg_fps = 0\n",
        "\n",
        "  # FPS Video\n",
        "  video_cap = cv2.VideoCapture(source)\n",
        "\n",
        "  total_frames = int(video_cap.get(cv2.CAP_PROP_FRAME_COUNT))\n",
        "  frame_width = int(video_cap.get(3))\n",
        "  frame_height = int(video_cap.get(4))\n",
        "\n",
        "  video_frames = []\n",
        "\n",
        "  while video_cap.isOpened():\n",
        "      ret, frame = video_cap.read()\n",
        "      if not ret:\n",
        "          break\n",
        "\n",
        "      # # Start Time\n",
        "      start = time.time()\n",
        "\n",
        "      # Detection\n",
        "      if(file_extension == \".engine\"):\n",
        "        cls, conf, box = tensorrt_detection(model, source, frame)\n",
        "      else:\n",
        "        cls, conf, box = yolov8_detection(model, frame)\n",
        "\n",
        "      # Pack together for easy use\n",
        "      detection_output = list(zip(cls, conf, box))\n",
        "      image_output = utils.draw_box(frame, detection_output, label_map, COLORS)\n",
        "\n",
        "      end = time.time()\n",
        "      # # End Time\n",
        "\n",
        "      # Draw FPS\n",
        "      frame_count += 1\n",
        "      fps = 1 / (end - start)\n",
        "      total_fps = total_fps + fps\n",
        "      avg_fps = total_fps / frame_count\n",
        "\n",
        "      image_output = utils.draw_fps(avg_fps, image_output)\n",
        "\n",
        "      # Append frame to array\n",
        "      video_frames.append(image_output)\n",
        "\n",
        "      #\n",
        "      print(\"(%2d / %2d) Frames Processed\" % (frame_count, total_frames))\n",
        "\n",
        "  print(avg_fps)\n",
        "\n",
        "  # Get a file name\n",
        "  file_name = utils.get_name(source)\n",
        "  # Get Save Path\n",
        "  folder_name = name\n",
        "  save_path = utils.get_save_path(file_name, folder_name)\n",
        "  # Create VideoWriter object.\n",
        "  out = cv2.VideoWriter(save_path, cv2.VideoWriter_fourcc(*'XVID'), int(avg_fps), (frame_width, frame_height))\n",
        "\n",
        "  for frame in video_frames:\n",
        "      out.write(frame)\n",
        "\n",
        "  out.release()\n",
        "\n",
        "  print(\"Video is saved in: \"+save_path)"
      ]
    },
    {
      "cell_type": "code",
      "execution_count": null,
      "metadata": {
        "id": "Fcl651SGko9V"
      },
      "outputs": [],
      "source": [
        "detection(\"yolov8x.pt\", \"inference/road.mp4\", \"detection-yolov8\")"
      ]
    },
    {
      "cell_type": "code",
      "execution_count": null,
      "metadata": {
        "id": "NTZH7sCHkpfr"
      },
      "outputs": [],
      "source": [
        "# Download the result\n",
        "from google.colab import files\n",
        "\n",
        "files.download('result/detection-yolov8/road.mp4')"
      ]
    },
    {
      "cell_type": "code",
      "execution_count": null,
      "metadata": {
        "id": "_9UVb02-nKaw"
      },
      "outputs": [],
      "source": [
        "detection(\"yolov8x.engine\", \"inference/road.mp4\", \"detection\")"
      ]
    },
    {
      "cell_type": "code",
      "execution_count": null,
      "metadata": {
        "id": "Xjv-OcATnKdD"
      },
      "outputs": [],
      "source": [
        "# Download the result\n",
        "from google.colab import files\n",
        "\n",
        "files.download('result/detection/road.mp4')"
      ]
    }
  ],
  "metadata": {
    "accelerator": "GPU",
    "colab": {
      "gpuType": "T4",
      "provenance": []
    },
    "kernelspec": {
      "display_name": "Python 3",
      "name": "python3"
    },
    "language_info": {
      "name": "python"
    }
  },
  "nbformat": 4,
  "nbformat_minor": 0
}